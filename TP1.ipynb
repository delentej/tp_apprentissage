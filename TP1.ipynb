{
 "cells": [
  {
   "cell_type": "raw",
   "metadata": {},
   "source": [
    "Auteur: DELENTE Jordan.\n"
   ]
  },
  {
   "cell_type": "markdown",
   "metadata": {},
   "source": [
    "# Compte rendu : TP k-nn"
   ]
  },
  {
   "cell_type": "raw",
   "metadata": {},
   "source": [
    "chargement des données mnist et des librairies."
   ]
  },
  {
   "cell_type": "code",
   "execution_count": 2,
   "metadata": {},
   "outputs": [],
   "source": [
    "from sklearn.datasets import fetch_openml"
   ]
  },
  {
   "cell_type": "code",
   "execution_count": 3,
   "metadata": {},
   "outputs": [],
   "source": [
    "mnist = fetch_openml('mnist_784')"
   ]
  },
  {
   "cell_type": "code",
   "execution_count": 4,
   "metadata": {},
   "outputs": [],
   "source": [
    "from sklearn import datasets"
   ]
  },
  {
   "cell_type": "code",
   "execution_count": 5,
   "metadata": {},
   "outputs": [],
   "source": [
    "import matplotlib.pyplot as plt"
   ]
  },
  {
   "cell_type": "code",
   "execution_count": 6,
   "metadata": {},
   "outputs": [],
   "source": [
    "import numpy as np"
   ]
  },
  {
   "cell_type": "code",
   "execution_count": 7,
   "metadata": {},
   "outputs": [],
   "source": [
    "from sklearn.model_selection import train_test_split"
   ]
  },
  {
   "cell_type": "code",
   "execution_count": 8,
   "metadata": {},
   "outputs": [],
   "source": [
    "from sklearn.neighbors import KNeighborsClassifier"
   ]
  },
  {
   "cell_type": "raw",
   "metadata": {},
   "source": [
    "Echantillon de données d'une taille de 5000 exemples. X représente les données, et Y leurs target."
   ]
  },
  {
   "cell_type": "code",
   "execution_count": 57,
   "metadata": {},
   "outputs": [],
   "source": [
    "rand = np.random.randint(70000, size=5000)"
   ]
  },
  {
   "cell_type": "code",
   "execution_count": 58,
   "metadata": {
    "scrolled": true
   },
   "outputs": [],
   "source": [
    "x = mnist.data[rand]\n",
    "y = mnist.target[rand]\n",
    "x1=x\n",
    "y1=y"
   ]
  },
  {
   "cell_type": "raw",
   "metadata": {},
   "source": [
    "La fonction train test split nous permet de diviser le jeu de données en deux, avec une partie propre à l'apprentissage (80%) et une autre pour le test.\n",
    "Xtrain et Ytrain comporte les données d'apprentissage, et Xtest et Ytest les données de test."
   ]
  },
  {
   "cell_type": "code",
   "execution_count": 59,
   "metadata": {},
   "outputs": [],
   "source": [
    "xtrain, xtest, ytrain, ytest = train_test_split(x, y, train_size=0.8)"
   ]
  },
  {
   "cell_type": "raw",
   "metadata": {},
   "source": [
    "KneighborsClassifier permet de créer un objet du type classifieur basé sur les 10 plus proches voisin"
   ]
  },
  {
   "cell_type": "code",
   "execution_count": 60,
   "metadata": {},
   "outputs": [],
   "source": [
    "clf = KNeighborsClassifier (10)"
   ]
  },
  {
   "cell_type": "raw",
   "metadata": {},
   "source": [
    "clf.fit permet d'utiliser les donnée d'apprentissage pour définir le classifieur"
   ]
  },
  {
   "cell_type": "code",
   "execution_count": 61,
   "metadata": {},
   "outputs": [
    {
     "data": {
      "text/plain": [
       "KNeighborsClassifier(algorithm='auto', leaf_size=30, metric='minkowski',\n",
       "                     metric_params=None, n_jobs=None, n_neighbors=10, p=2,\n",
       "                     weights='uniform')"
      ]
     },
     "execution_count": 61,
     "metadata": {},
     "output_type": "execute_result"
    }
   ],
   "source": [
    "clf.fit(xtrain,ytrain)"
   ]
  },
  {
   "cell_type": "raw",
   "metadata": {},
   "source": [
    "Maintenant, la commande clf.predict va etre utilisé sur les données de test pour leur données une classification avec le classifieur précédement créé. On compare ainsi le résultat avec les targets des données test."
   ]
  },
  {
   "cell_type": "code",
   "execution_count": 62,
   "metadata": {
    "scrolled": true
   },
   "outputs": [
    {
     "data": {
      "text/plain": [
       "array(['6', '6', '6', '3', '8', '1', '9', '1', '4', '6', '2', '7', '8',\n",
       "       '7', '6', '0', '3', '6', '5', '5', '6', '7', '6', '3', '4', '7',\n",
       "       '2', '9', '4', '1', '7', '4', '9', '6', '1', '9', '9', '7', '6',\n",
       "       '0', '5', '1', '6', '9', '9', '9', '2', '1', '9', '8', '5', '4',\n",
       "       '0', '3', '9', '8', '1', '0', '7', '4', '1', '9', '6', '1', '9',\n",
       "       '1', '1', '6', '0', '9', '3', '6', '7', '2', '1', '4', '3', '4',\n",
       "       '9', '5', '2', '4', '7', '2', '0', '0', '2', '6', '9', '5', '2',\n",
       "       '0', '2', '2', '9', '8', '5', '1', '5', '0', '0', '2', '9', '0',\n",
       "       '2', '1', '2', '1', '7', '7', '4', '2', '1', '7', '3', '9', '1',\n",
       "       '8', '6', '8', '3', '0', '0', '5', '9', '8', '4', '5', '9', '5',\n",
       "       '2', '3', '8', '8', '2', '0', '9', '1', '1', '4', '1', '5', '3',\n",
       "       '8', '1', '2', '1', '1', '3', '7', '1', '4', '5', '1', '0', '9',\n",
       "       '5', '8', '7', '0', '9', '7', '3', '1', '7', '7', '9', '1', '1',\n",
       "       '1', '2', '8', '0', '9', '8', '7', '1', '0', '9', '0', '6', '8',\n",
       "       '8', '9', '6', '3', '2', '1', '2', '3', '1', '6', '9', '7', '9',\n",
       "       '6', '5', '7', '6', '7', '5', '8', '3', '9', '0', '9', '6', '3',\n",
       "       '8', '8', '2', '4', '3', '4', '3', '5', '5', '3', '9', '6', '3',\n",
       "       '9', '7', '5', '3', '8', '9', '1', '9', '2', '4', '4', '3', '4',\n",
       "       '6', '8', '4', '7', '2', '6', '0', '6', '6', '9', '0', '1', '7',\n",
       "       '6', '9', '8', '3', '1', '5', '6', '4', '3', '0', '1', '6', '4',\n",
       "       '8', '6', '3', '2', '6', '6', '9', '6', '1', '3', '6', '7', '0',\n",
       "       '2', '7', '5', '6', '1', '7', '1', '8', '5', '5', '2', '1', '2',\n",
       "       '1', '5', '2', '9', '7', '0', '2', '5', '7', '4', '9', '4', '1',\n",
       "       '3', '1', '3', '3', '2', '5', '2', '9', '2', '0', '5', '0', '3',\n",
       "       '0', '0', '0', '7', '9', '0', '2', '1', '1', '2', '2', '6', '2',\n",
       "       '6', '2', '0', '1', '4', '2', '6', '8', '1', '3', '0', '7', '0',\n",
       "       '9', '4', '2', '2', '4', '2', '7', '8', '9', '3', '7', '2', '7',\n",
       "       '9', '1', '8', '3', '3', '0', '0', '8', '3', '2', '6', '8', '0',\n",
       "       '6', '8', '9', '4', '8', '7', '3', '9', '1', '8', '1', '8', '4',\n",
       "       '7', '9', '4', '3', '2', '6', '5', '3', '1', '0', '5', '6', '7',\n",
       "       '3', '0', '7', '5', '3', '4', '6', '0', '0', '5', '7', '3', '2',\n",
       "       '6', '7', '9', '1', '2', '8', '3', '0', '8', '4', '8', '8', '6',\n",
       "       '5', '2', '0', '5', '5', '0', '9', '3', '0', '0', '5', '0', '5',\n",
       "       '0', '3', '3', '7', '7', '0', '7', '4', '6', '5', '8', '3', '1',\n",
       "       '5', '0', '7', '7', '4', '0', '0', '6', '4', '8', '7', '9', '6',\n",
       "       '5', '4', '6', '9', '1', '6', '9', '0', '3', '2', '2', '5', '7',\n",
       "       '6', '4', '4', '3', '5', '0', '7', '9', '8', '6', '0', '4', '1',\n",
       "       '4', '3', '8', '5', '0', '7', '1', '7', '3', '1', '2', '1', '7',\n",
       "       '6', '8', '0', '3', '7', '9', '1', '3', '4', '2', '1', '3', '1',\n",
       "       '7', '0', '6', '3', '4', '2', '8', '1', '1', '8', '2', '8', '1',\n",
       "       '7', '7', '0', '9', '0', '7', '1', '1', '7', '9', '1', '0', '6',\n",
       "       '7', '5', '3', '9', '2', '9', '2', '4', '1', '0', '8', '2', '4',\n",
       "       '0', '2', '3', '0', '4', '3', '3', '4', '4', '5', '4', '2', '8',\n",
       "       '9', '5', '9', '3', '0', '1', '8', '3', '7', '0', '6', '0', '1',\n",
       "       '1', '2', '0', '4', '4', '9', '7', '3', '7', '4', '3', '9', '7',\n",
       "       '0', '4', '2', '8', '8', '7', '2', '6', '8', '6', '9', '5', '7',\n",
       "       '6', '9', '3', '4', '9', '5', '6', '0', '9', '4', '2', '8', '2',\n",
       "       '0', '2', '8', '1', '3', '8', '9', '5', '1', '5', '0', '1', '3',\n",
       "       '2', '6', '2', '9', '2', '4', '1', '6', '4', '7', '3', '3', '1',\n",
       "       '3', '6', '2', '0', '5', '3', '5', '0', '5', '1', '0', '4', '3',\n",
       "       '2', '2', '7', '5', '4', '3', '4', '2', '0', '6', '4', '4', '6',\n",
       "       '8', '7', '9', '0', '6', '7', '0', '1', '6', '6', '3', '7', '4',\n",
       "       '4', '9', '2', '4', '4', '8', '7', '8', '1', '7', '9', '3', '2',\n",
       "       '4', '2', '1', '6', '1', '2', '1', '7', '4', '0', '2', '7', '3',\n",
       "       '9', '0', '1', '7', '8', '5', '1', '0', '0', '1', '9', '0', '0',\n",
       "       '5', '0', '6', '0', '3', '3', '7', '0', '0', '0', '9', '3', '0',\n",
       "       '7', '1', '4', '1', '9', '7', '1', '1', '2', '9', '4', '9', '9',\n",
       "       '2', '3', '0', '9', '7', '4', '3', '6', '4', '9', '9', '3', '9',\n",
       "       '4', '8', '5', '3', '3', '8', '7', '3', '2', '2', '6', '9', '7',\n",
       "       '9', '7', '7', '2', '2', '8', '1', '4', '1', '7', '5', '7', '3',\n",
       "       '0', '0', '4', '4', '9', '0', '6', '9', '1', '9', '0', '9', '3',\n",
       "       '4', '7', '1', '7', '4', '9', '4', '6', '1', '1', '8', '1', '2',\n",
       "       '2', '6', '7', '6', '0', '1', '9', '1', '9', '1', '2', '7', '4',\n",
       "       '4', '1', '8', '1', '0', '9', '1', '6', '7', '2', '8', '9', '7',\n",
       "       '0', '6', '1', '2', '2', '6', '0', '0', '6', '7', '8', '4', '8',\n",
       "       '6', '4', '2', '9', '1', '8', '1', '1', '6', '6', '5', '1', '7',\n",
       "       '5', '1', '7', '7', '5', '2', '5', '5', '6', '4', '6', '3', '4',\n",
       "       '1', '8', '6', '9', '0', '8', '1', '3', '8', '3', '0', '4', '6',\n",
       "       '0', '9', '3', '9', '5', '1', '0', '3', '7', '7', '8', '1', '5',\n",
       "       '1', '8', '7', '5', '0', '7', '5', '6', '2', '0', '2', '0', '5',\n",
       "       '8', '7', '2', '7', '4', '8', '0', '4', '1', '7', '1', '8', '5',\n",
       "       '0', '2', '0', '2', '0', '3', '5', '2', '4', '4', '0', '6', '1',\n",
       "       '0', '6', '0', '5', '8', '5', '7', '3', '1', '9', '0', '3', '9',\n",
       "       '5', '4', '0', '7', '8', '4', '1', '9', '1', '2', '7', '1', '6',\n",
       "       '9', '1', '1', '8', '9', '9', '2', '2', '3', '6', '7', '8', '8',\n",
       "       '1', '1', '6', '2', '4', '6', '1', '0', '8', '1', '1', '6', '7',\n",
       "       '4', '4', '8', '1', '4', '2', '5', '6', '9', '2', '3', '5'],\n",
       "      dtype=object)"
      ]
     },
     "execution_count": 62,
     "metadata": {},
     "output_type": "execute_result"
    }
   ],
   "source": [
    "clf.predict(xtest)"
   ]
  },
  {
   "cell_type": "code",
   "execution_count": 63,
   "metadata": {
    "scrolled": true
   },
   "outputs": [
    {
     "data": {
      "text/plain": [
       "array(['2', '6', '6', '8', '8', '1', '9', '1', '4', '0', '2', '7', '8',\n",
       "       '7', '6', '2', '3', '6', '5', '5', '6', '7', '6', '3', '7', '7',\n",
       "       '2', '8', '4', '1', '7', '4', '7', '6', '7', '9', '9', '7', '6',\n",
       "       '0', '5', '2', '6', '9', '9', '9', '2', '8', '9', '8', '5', '4',\n",
       "       '0', '3', '7', '8', '1', '0', '7', '4', '1', '9', '6', '1', '9',\n",
       "       '1', '1', '6', '0', '9', '3', '6', '7', '2', '1', '4', '3', '7',\n",
       "       '9', '5', '2', '4', '7', '2', '0', '0', '2', '6', '9', '5', '2',\n",
       "       '0', '2', '2', '9', '8', '5', '1', '5', '0', '0', '2', '9', '0',\n",
       "       '2', '1', '2', '1', '9', '7', '4', '2', '1', '7', '3', '9', '1',\n",
       "       '8', '6', '8', '3', '5', '0', '5', '9', '8', '4', '5', '9', '5',\n",
       "       '2', '3', '8', '8', '2', '0', '9', '1', '1', '4', '1', '5', '3',\n",
       "       '8', '1', '2', '1', '1', '3', '7', '2', '4', '5', '1', '0', '9',\n",
       "       '5', '8', '7', '0', '9', '7', '3', '1', '7', '7', '9', '1', '1',\n",
       "       '1', '2', '8', '0', '9', '8', '7', '2', '0', '9', '0', '6', '8',\n",
       "       '8', '9', '6', '3', '2', '3', '2', '3', '1', '6', '9', '7', '9',\n",
       "       '6', '5', '7', '6', '7', '5', '8', '3', '9', '0', '9', '6', '3',\n",
       "       '8', '8', '2', '4', '3', '0', '3', '5', '5', '3', '9', '6', '3',\n",
       "       '9', '7', '5', '3', '8', '9', '1', '9', '2', '4', '4', '8', '4',\n",
       "       '6', '8', '4', '7', '2', '6', '0', '6', '6', '9', '0', '1', '7',\n",
       "       '6', '9', '8', '3', '1', '3', '6', '4', '5', '0', '2', '6', '4',\n",
       "       '8', '6', '3', '2', '6', '6', '9', '6', '1', '3', '6', '7', '0',\n",
       "       '2', '7', '5', '6', '1', '7', '1', '8', '5', '5', '2', '1', '2',\n",
       "       '1', '5', '2', '9', '7', '9', '2', '5', '7', '4', '9', '4', '1',\n",
       "       '3', '1', '3', '3', '2', '5', '2', '9', '2', '0', '5', '0', '3',\n",
       "       '6', '0', '0', '7', '9', '0', '2', '1', '1', '2', '2', '8', '2',\n",
       "       '6', '2', '0', '1', '4', '2', '6', '8', '1', '8', '0', '7', '0',\n",
       "       '8', '4', '2', '2', '4', '2', '7', '3', '9', '3', '7', '2', '2',\n",
       "       '9', '1', '8', '3', '3', '0', '0', '8', '3', '2', '6', '8', '0',\n",
       "       '6', '8', '9', '4', '8', '7', '3', '9', '1', '8', '1', '3', '4',\n",
       "       '7', '9', '4', '3', '2', '6', '5', '3', '7', '0', '5', '6', '7',\n",
       "       '3', '0', '7', '5', '8', '4', '6', '0', '0', '5', '7', '3', '2',\n",
       "       '6', '7', '9', '1', '2', '8', '3', '0', '8', '4', '8', '8', '6',\n",
       "       '5', '2', '0', '5', '5', '0', '9', '3', '0', '0', '5', '0', '5',\n",
       "       '0', '3', '3', '7', '7', '0', '7', '4', '6', '5', '8', '3', '1',\n",
       "       '5', '0', '7', '7', '4', '0', '0', '5', '4', '8', '3', '9', '6',\n",
       "       '5', '8', '6', '4', '1', '6', '9', '0', '3', '2', '2', '5', '7',\n",
       "       '6', '4', '4', '3', '3', '0', '7', '9', '8', '6', '0', '9', '1',\n",
       "       '4', '3', '8', '5', '0', '7', '1', '7', '3', '1', '2', '1', '7',\n",
       "       '6', '8', '0', '3', '7', '9', '1', '3', '4', '2', '9', '3', '1',\n",
       "       '7', '0', '6', '3', '4', '2', '8', '1', '1', '8', '2', '8', '1',\n",
       "       '7', '7', '0', '9', '0', '7', '1', '7', '7', '4', '1', '0', '6',\n",
       "       '7', '5', '3', '9', '2', '4', '2', '4', '3', '0', '8', '2', '9',\n",
       "       '0', '2', '3', '0', '4', '3', '3', '9', '4', '5', '4', '2', '8',\n",
       "       '9', '5', '9', '3', '0', '1', '8', '9', '7', '0', '6', '0', '1',\n",
       "       '1', '2', '0', '4', '4', '9', '7', '3', '7', '4', '3', '9', '7',\n",
       "       '0', '4', '2', '8', '8', '7', '3', '6', '8', '6', '3', '5', '7',\n",
       "       '6', '9', '3', '4', '9', '5', '4', '0', '9', '4', '2', '8', '2',\n",
       "       '0', '2', '8', '1', '3', '8', '9', '5', '1', '5', '2', '3', '5',\n",
       "       '2', '6', '2', '9', '2', '4', '1', '6', '4', '7', '3', '8', '1',\n",
       "       '3', '6', '2', '0', '8', '3', '5', '0', '5', '1', '0', '4', '3',\n",
       "       '2', '2', '7', '5', '4', '3', '4', '2', '0', '6', '4', '4', '6',\n",
       "       '8', '7', '9', '0', '6', '7', '2', '9', '6', '6', '3', '7', '4',\n",
       "       '4', '9', '2', '4', '4', '8', '7', '8', '8', '7', '9', '3', '2',\n",
       "       '4', '2', '1', '6', '1', '2', '1', '7', '4', '0', '2', '7', '3',\n",
       "       '9', '0', '3', '7', '8', '5', '1', '0', '0', '1', '9', '0', '0',\n",
       "       '5', '0', '6', '0', '3', '3', '7', '0', '0', '0', '9', '3', '0',\n",
       "       '7', '1', '4', '1', '9', '7', '8', '1', '2', '9', '4', '9', '9',\n",
       "       '2', '3', '0', '4', '7', '4', '5', '6', '7', '9', '9', '3', '9',\n",
       "       '4', '8', '5', '3', '3', '8', '7', '3', '2', '2', '6', '9', '7',\n",
       "       '9', '7', '7', '2', '2', '8', '1', '4', '1', '7', '5', '7', '2',\n",
       "       '0', '0', '7', '4', '7', '0', '2', '9', '4', '9', '0', '9', '3',\n",
       "       '4', '9', '1', '7', '4', '9', '4', '6', '1', '1', '8', '1', '2',\n",
       "       '2', '6', '7', '6', '0', '1', '9', '1', '9', '1', '2', '7', '4',\n",
       "       '4', '1', '8', '1', '0', '9', '1', '6', '7', '2', '8', '9', '7',\n",
       "       '0', '6', '1', '2', '2', '6', '0', '0', '6', '7', '8', '4', '8',\n",
       "       '6', '4', '2', '9', '1', '8', '1', '1', '6', '6', '5', '1', '7',\n",
       "       '5', '1', '7', '9', '5', '2', '5', '5', '6', '4', '6', '3', '4',\n",
       "       '3', '8', '6', '9', '0', '8', '1', '3', '8', '3', '0', '4', '6',\n",
       "       '0', '9', '5', '9', '5', '1', '0', '3', '7', '7', '8', '1', '6',\n",
       "       '1', '8', '7', '5', '0', '7', '5', '6', '2', '0', '2', '5', '5',\n",
       "       '2', '7', '2', '7', '4', '8', '0', '4', '1', '7', '1', '8', '5',\n",
       "       '0', '2', '2', '2', '0', '3', '5', '2', '4', '4', '0', '6', '1',\n",
       "       '0', '6', '0', '5', '8', '5', '7', '3', '1', '9', '0', '3', '3',\n",
       "       '5', '4', '0', '7', '8', '4', '3', '9', '1', '2', '7', '9', '6',\n",
       "       '9', '1', '1', '8', '9', '9', '2', '2', '3', '6', '7', '8', '8',\n",
       "       '1', '9', '6', '2', '4', '6', '1', '0', '8', '1', '1', '6', '7',\n",
       "       '4', '4', '8', '1', '4', '2', '5', '6', '9', '2', '3', '5'],\n",
       "      dtype=object)"
      ]
     },
     "execution_count": 63,
     "metadata": {},
     "output_type": "execute_result"
    }
   ],
   "source": [
    "ytest"
   ]
  },
  {
   "cell_type": "code",
   "execution_count": 64,
   "metadata": {},
   "outputs": [
    {
     "data": {
      "text/plain": [
       "0.921"
      ]
     },
     "execution_count": 64,
     "metadata": {},
     "output_type": "execute_result"
    }
   ],
   "source": [
    "clf.score(xtest, ytest)"
   ]
  },
  {
   "cell_type": "raw",
   "metadata": {},
   "source": [
    "Le taux d'erreur est de 7.9\\%. \n",
    "\n",
    "Maintenant faisons varier k puis observons le score du classifieur."
   ]
  },
  {
   "cell_type": "code",
   "execution_count": 65,
   "metadata": {
    "scrolled": true
   },
   "outputs": [
    {
     "name": "stdout",
     "output_type": "stream",
     "text": [
      "pour k =  2  :  0.923\n",
      "pour k =  3  :  0.925\n",
      "pour k =  4  :  0.925\n",
      "pour k =  5  :  0.926\n",
      "pour k =  6  :  0.922\n",
      "pour k =  7  :  0.92\n",
      "pour k =  8  :  0.921\n",
      "pour k =  9  :  0.918\n",
      "pour k =  10  :  0.921\n",
      "pour k =  11  :  0.923\n",
      "pour k =  12  :  0.92\n",
      "pour k =  13  :  0.919\n",
      "pour k =  14  :  0.917\n",
      "pour k =  15  :  0.918\n"
     ]
    }
   ],
   "source": [
    "for k in range(2, 16):\n",
    "    clf = KNeighborsClassifier (k)\n",
    "    clf.fit(xtrain, ytrain)\n",
    "    print(\"pour k = \", k ,\" : \",clf.score(xtest, ytest))"
   ]
  },
  {
   "cell_type": "raw",
   "metadata": {},
   "source": [
    "On observe que le k optimal avec nos données est k=5 avec un score de 92,6\\%. Donc le nombre de voisin utiliser dans le classifieur n'est pas forcement meilleur si on augmente le nombre de plus proche voisin utilisés."
   ]
  },
  {
   "cell_type": "raw",
   "metadata": {},
   "source": [
    "Maintenant faisons varier le pourcentage des 2 échantillions pour observer le score avec un classifier sur les 5 plus proches voisins."
   ]
  },
  {
   "cell_type": "code",
   "execution_count": 1,
   "metadata": {},
   "outputs": [
    {
     "ename": "NameError",
     "evalue": "name 'train_test_split' is not defined",
     "output_type": "error",
     "traceback": [
      "\u001b[0;31m---------------------------------------------------------------------------\u001b[0m",
      "\u001b[0;31mNameError\u001b[0m                                 Traceback (most recent call last)",
      "\u001b[0;32m<ipython-input-1-3abf9c9b25f1>\u001b[0m in \u001b[0;36m<module>\u001b[0;34m\u001b[0m\n\u001b[1;32m      1\u001b[0m \u001b[0mx\u001b[0m\u001b[0;34m=\u001b[0m\u001b[0;36m0.1\u001b[0m\u001b[0;34m\u001b[0m\u001b[0;34m\u001b[0m\u001b[0m\n\u001b[1;32m      2\u001b[0m \u001b[0;32mfor\u001b[0m \u001b[0mk\u001b[0m \u001b[0;32min\u001b[0m \u001b[0mrange\u001b[0m\u001b[0;34m(\u001b[0m\u001b[0;36m1\u001b[0m\u001b[0;34m,\u001b[0m \u001b[0;36m10\u001b[0m\u001b[0;34m)\u001b[0m\u001b[0;34m:\u001b[0m\u001b[0;34m\u001b[0m\u001b[0;34m\u001b[0m\u001b[0m\n\u001b[0;32m----> 3\u001b[0;31m     \u001b[0mxtrain\u001b[0m\u001b[0;34m,\u001b[0m \u001b[0mxtest\u001b[0m\u001b[0;34m,\u001b[0m \u001b[0mytrain\u001b[0m\u001b[0;34m,\u001b[0m \u001b[0mytest\u001b[0m \u001b[0;34m=\u001b[0m \u001b[0mtrain_test_split\u001b[0m\u001b[0;34m(\u001b[0m\u001b[0mx1\u001b[0m\u001b[0;34m,\u001b[0m \u001b[0my1\u001b[0m\u001b[0;34m,\u001b[0m \u001b[0mtrain_size\u001b[0m\u001b[0;34m=\u001b[0m\u001b[0mx\u001b[0m\u001b[0;34m)\u001b[0m\u001b[0;34m\u001b[0m\u001b[0;34m\u001b[0m\u001b[0m\n\u001b[0m\u001b[1;32m      4\u001b[0m     \u001b[0mclf\u001b[0m \u001b[0;34m=\u001b[0m \u001b[0mKNeighborsClassifier\u001b[0m \u001b[0;34m(\u001b[0m\u001b[0;36m5\u001b[0m\u001b[0;34m)\u001b[0m\u001b[0;34m\u001b[0m\u001b[0;34m\u001b[0m\u001b[0m\n\u001b[1;32m      5\u001b[0m     \u001b[0mclf\u001b[0m\u001b[0;34m.\u001b[0m\u001b[0mfit\u001b[0m\u001b[0;34m(\u001b[0m\u001b[0mxtrain\u001b[0m\u001b[0;34m,\u001b[0m \u001b[0mytrain\u001b[0m\u001b[0;34m)\u001b[0m\u001b[0;34m\u001b[0m\u001b[0;34m\u001b[0m\u001b[0m\n",
      "\u001b[0;31mNameError\u001b[0m: name 'train_test_split' is not defined"
     ]
    }
   ],
   "source": [
    "x=0.1\n",
    "for k in range(1, 10):\n",
    "    xtrain, xtest, ytrain, ytest = train_test_split(x1, y1, train_size=x)\n",
    "    clf = KNeighborsClassifier (10)\n",
    "    clf.fit(xtrain, ytrain)\n",
    "    c=x*100\n",
    "    print(\"Avec \", c , \"% de donnée apprentissage : \", clf.score(xtest, ytest))\n",
    "    x=x+0.1"
   ]
  },
  {
   "cell_type": "raw",
   "metadata": {},
   "source": [
    "On remarque ici que, meme si l'on augmente la taille de la base d'apprentissage, le score a tendance à augmenté mais n'augmentera pas forcement. Dans notre cas, le cas optimal est pour x=0.8, on obtient un score de 92,8 \\%. Pour finir nos test, nous allons faire varier la taille du jeu de donnée pour voir le score, avec une classifieur prennant en compte les 5 plus proches voisin et un pourcentage entre la base d'apprentissage et de test toujours égale a 0.8."
   ]
  },
  {
   "cell_type": "code",
   "execution_count": 70,
   "metadata": {},
   "outputs": [
    {
     "name": "stdout",
     "output_type": "stream",
     "text": [
      "pour une taille de  2000  données :  0.8775\n",
      "pour une taille de  4000  données :  0.93625\n",
      "pour une taille de  6000  données :  0.9258333333333333\n",
      "pour une taille de  8000  données :  0.93\n",
      "pour une taille de  10000  données :  0.951\n",
      "pour une taille de  12000  données :  0.9470833333333334\n",
      "pour une taille de  14000  données :  0.9492857142857143\n",
      "pour une taille de  16000  données :  0.9509375\n",
      "pour une taille de  18000  données :  0.9502777777777778\n",
      "pour une taille de  20000  données :  0.9525\n"
     ]
    }
   ],
   "source": [
    "for k in range(1, 11):\n",
    "    sizedata=k*2000\n",
    "    rand = np.random.randint(70000, size=sizedata)\n",
    "    x = mnist.data[rand]\n",
    "    y = mnist.target[rand]\n",
    "    xtrain, xtest, ytrain, ytest = train_test_split(x, y, train_size=0.8)\n",
    "    clf = KNeighborsClassifier (5)\n",
    "    clf.fit(xtrain, ytrain)\n",
    "    print(\"pour une taille de \", sizedata , \" données : \", clf.score(xtest, ytest))"
   ]
  },
  {
   "cell_type": "raw",
   "metadata": {},
   "source": [
    "Grâce à ce test, on prouve que la taille de la base d'apprentissage va permettre d'avoir de meilleur score sur les test, car ici le cas optimal est avec une base de 20000, on obtien un score de 95.25\\% .Les avantages d'utiliser k-nn sont que c'est un algorithme simple et facile à utiliser, si l'on a une grosse base d'apprentissage les scores sont assez correctes ( aux allentours des 94\\% ici ). Le plus gros inconvénient de cet algorithme est la taille de la base d'apprentissage qui doit etre très grande pour avoir le meilleur taux de réussite possible ce qui prend beaucoup de place, et donne des temps de calcul assez long, et que l'algorithme n'est toujours pas fiable à 100\\% même dans ces conditions. "
   ]
  }
 ],
 "metadata": {
  "kernelspec": {
   "display_name": "Python 3",
   "language": "python",
   "name": "python3"
  },
  "language_info": {
   "codemirror_mode": {
    "name": "ipython",
    "version": 3
   },
   "file_extension": ".py",
   "mimetype": "text/x-python",
   "name": "python",
   "nbconvert_exporter": "python",
   "pygments_lexer": "ipython3",
   "version": "3.7.3"
  },
  "latex_envs": {
   "LaTeX_envs_menu_present": true,
   "autoclose": false,
   "autocomplete": true,
   "bibliofile": "biblio.bib",
   "cite_by": "apalike",
   "current_citInitial": 1,
   "eqLabelWithNumbers": true,
   "eqNumInitial": 1,
   "hotkeys": {
    "equation": "Ctrl-E",
    "itemize": "Ctrl-I"
   },
   "labels_anchors": false,
   "latex_user_defs": false,
   "report_style_numbering": false,
   "user_envs_cfg": false
  }
 },
 "nbformat": 4,
 "nbformat_minor": 2
}
