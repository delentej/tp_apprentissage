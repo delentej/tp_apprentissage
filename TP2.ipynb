{
 "cells": [
  {
   "cell_type": "code",
   "execution_count": 1,
   "metadata": {},
   "outputs": [],
   "source": [
    "from sklearn.datasets import fetch_openml"
   ]
  },
  {
   "cell_type": "code",
   "execution_count": 2,
   "metadata": {},
   "outputs": [
    {
     "ename": "NameError",
     "evalue": "name 'fetch_openml' is not defined",
     "output_type": "error",
     "traceback": [
      "\u001b[0;31m---------------------------------------------------------------------------\u001b[0m",
      "\u001b[0;31mNameError\u001b[0m                                 Traceback (most recent call last)",
      "\u001b[0;32m<ipython-input-2-6afe26331d9c>\u001b[0m in \u001b[0;36m<module>\u001b[0;34m\u001b[0m\n\u001b[0;32m----> 1\u001b[0;31m \u001b[0mmnist\u001b[0m \u001b[0;34m=\u001b[0m \u001b[0mfetch_openml\u001b[0m\u001b[0;34m(\u001b[0m\u001b[0;34m'mnist_784'\u001b[0m\u001b[0;34m)\u001b[0m\u001b[0;34m\u001b[0m\u001b[0;34m\u001b[0m\u001b[0m\n\u001b[0m",
      "\u001b[0;31mNameError\u001b[0m: name 'fetch_openml' is not defined"
     ]
    }
   ],
   "source": [
    "mnist = fetch_openml('mnist_784')"
   ]
  },
  {
   "cell_type": "code",
   "execution_count": 5,
   "metadata": {},
   "outputs": [],
   "source": [
    "import numpy as np"
   ]
  },
  {
   "cell_type": "code",
   "execution_count": 6,
   "metadata": {},
   "outputs": [],
   "source": [
    "from sklearn.model_selection import train_test_split"
   ]
  },
  {
   "cell_type": "code",
   "execution_count": 7,
   "metadata": {},
   "outputs": [],
   "source": [
    "xtrain, xtest, ytrain, ytest = train_test_split(mnist.data, mnist.target, train_size=0.7)"
   ]
  },
  {
   "cell_type": "code",
   "execution_count": 10,
   "metadata": {},
   "outputs": [],
   "source": [
    "from sklearn.neural_network import MLPClassifier"
   ]
  },
  {
   "cell_type": "code",
   "execution_count": 12,
   "metadata": {},
   "outputs": [],
   "source": [
    "clf = MLPClassifier(hidden_layer_sizes=(50))"
   ]
  },
  {
   "cell_type": "code",
   "execution_count": 13,
   "metadata": {},
   "outputs": [
    {
     "data": {
      "text/plain": [
       "MLPClassifier(activation='relu', alpha=0.0001, batch_size='auto', beta_1=0.9,\n",
       "              beta_2=0.999, early_stopping=False, epsilon=1e-08,\n",
       "              hidden_layer_sizes=50, learning_rate='constant',\n",
       "              learning_rate_init=0.001, max_iter=200, momentum=0.9,\n",
       "              n_iter_no_change=10, nesterovs_momentum=True, power_t=0.5,\n",
       "              random_state=None, shuffle=True, solver='adam', tol=0.0001,\n",
       "              validation_fraction=0.1, verbose=False, warm_start=False)"
      ]
     },
     "execution_count": 13,
     "metadata": {},
     "output_type": "execute_result"
    }
   ],
   "source": [
    "clf.fit(xtrain, ytrain)"
   ]
  },
  {
   "cell_type": "code",
   "execution_count": 27,
   "metadata": {},
   "outputs": [],
   "source": [
    "ypredtest=clf.predict(xtest)"
   ]
  },
  {
   "cell_type": "code",
   "execution_count": 25,
   "metadata": {},
   "outputs": [
    {
     "data": {
      "text/plain": [
       "'9'"
      ]
     },
     "execution_count": 25,
     "metadata": {},
     "output_type": "execute_result"
    }
   ],
   "source": [
    "ytest[0]"
   ]
  },
  {
   "cell_type": "code",
   "execution_count": 26,
   "metadata": {},
   "outputs": [],
   "source": [
    "from sklearn.metrics import precision_score"
   ]
  },
  {
   "cell_type": "code",
   "execution_count": 54,
   "metadata": {},
   "outputs": [],
   "source": [
    "from sklearn.metrics import zero_one_loss"
   ]
  },
  {
   "cell_type": "code",
   "execution_count": 56,
   "metadata": {},
   "outputs": [],
   "source": [
    "import time"
   ]
  },
  {
   "cell_type": "code",
   "execution_count": 30,
   "metadata": {},
   "outputs": [
    {
     "data": {
      "text/plain": [
       "0.9463809523809524"
      ]
     },
     "execution_count": 30,
     "metadata": {},
     "output_type": "execute_result"
    }
   ],
   "source": [
    "precision_score(ytest,ypredtest,average='micro')"
   ]
  },
  {
   "cell_type": "code",
   "execution_count": 55,
   "metadata": {},
   "outputs": [
    {
     "name": "stdout",
     "output_type": "stream",
     "text": [
      "2  couches :\n",
      "precision :  0.9584285714285714\n",
      "erreur :  0.04157142857142859\n",
      "10  couches :\n",
      "precision :  0.9646666666666667\n",
      "erreur :  0.03533333333333333\n",
      "20  couches :\n",
      "precision :  0.9670952380952381\n",
      "erreur :  0.03290476190476188\n",
      "50  couches :\n",
      "precision :  0.8612857142857143\n",
      "erreur :  0.13871428571428568\n",
      "100  couches :\n",
      "precision :  0.11452380952380953\n",
      "erreur :  0.8854761904761905\n"
     ]
    }
   ],
   "source": [
    "l=[2,10,20,50,100]\n",
    "for k in range(0, 5):\n",
    "    x=[]\n",
    "    for i in range(0, l[k]):\n",
    "        x.append(50)\n",
    "    print(l[k], \" couches :\")\n",
    "    clf = MLPClassifier(hidden_layer_sizes=(x))\n",
    "    clf.fit(xtrain, ytrain)\n",
    "    ypredtest=clf.predict(xtest)\n",
    "    precision = precision_score(ytest,ypredtest,average='micro')\n",
    "    print(\"precision : \", precision)\n",
    "    erreur = zero_one_loss(ytest,ypredtest)\n",
    "    print(\"erreur : \", erreur)\n",
    "\n",
    "    "
   ]
  },
  {
   "cell_type": "code",
   "execution_count": 43,
   "metadata": {},
   "outputs": [
    {
     "name": "stdout",
     "output_type": "stream",
     "text": [
      "Pour 20 couches avec un pas de -2 neuronnes par couche :\n",
      "0.9662857142857143\n",
      "Pour 50 couches avec un pas de -1 neuronne par couche :\n",
      "0.11452380952380953\n"
     ]
    }
   ],
   "source": [
    "x=[]\n",
    "t=60\n",
    "for i in range(1, 21):\n",
    "    t=t-2\n",
    "    x.append(t)\n",
    "    \n",
    "print(\"Pour 20 couches avec un pas de -2 neuronnes par couche :\")\n",
    "clf = MLPClassifier(hidden_layer_sizes=(x))\n",
    "clf.fit(xtrain, ytrain)\n",
    "ypredtest=clf.predict(xtest)\n",
    "precision = precision_score(ytest,ypredtest,average='micro')\n",
    "print(precision)\n",
    "\n",
    "\n",
    "x=[]\n",
    "t=60\n",
    "for i in range(1, 51):\n",
    "    t=t-1\n",
    "    x.append(t)\n",
    "    \n",
    "print(\"Pour 50 couches avec un pas de -1 neuronne par couche :\")\n",
    "clf = MLPClassifier(hidden_layer_sizes=(x))\n",
    "clf.fit(xtrain, ytrain)\n",
    "ypredtest=clf.predict(xtest)\n",
    "precision = precision_score(ytest,ypredtest,average='micro')\n",
    "print(precision)"
   ]
  },
  {
   "cell_type": "raw",
   "metadata": {},
   "source": [
    "Pour les tests suivant, nous avons pris comme paramètre, 20 couches avec 50 neuronnes par couches car les résultats obtenu avec ces paramètres était le plus performant. Dans chaque parti nous comparons des paramètres différents entre eux, avec pour valeurs des autres paramètres, les valeurs par défauts. Par exemple lors de la comparaison du paramètre d'activation, le solver et la valeur de régularisation sont les valeurs prises par défauts."
   ]
  },
  {
   "cell_type": "code",
   "execution_count": 46,
   "metadata": {},
   "outputs": [
    {
     "name": "stdout",
     "output_type": "stream",
     "text": [
      "pour le solver lbfgs\n",
      "0.6995238095238095\n",
      "pour le solver sgd\n",
      "0.954047619047619\n",
      "pour le solver adam\n",
      "0.9700952380952381\n"
     ]
    }
   ],
   "source": [
    "l=[\"lbfgs\",\"sgd\",\"adam\"]\n",
    "x=[]\n",
    "for i in range(1, 21):\n",
    "        x.append(50)\n",
    "        \n",
    "for k in range(1,4):\n",
    "    print(\"pour le solver\", l[k-1])\n",
    "    clf = MLPClassifier(hidden_layer_sizes=(x),solver=(l[k-1]))\n",
    "    clf.fit(xtrain, ytrain)\n",
    "    ypredtest=clf.predict(xtest)\n",
    "    precision = precision_score(ytest,ypredtest,average='micro')\n",
    "    print(precision)"
   ]
  },
  {
   "cell_type": "code",
   "execution_count": 49,
   "metadata": {},
   "outputs": [
    {
     "name": "stdout",
     "output_type": "stream",
     "text": [
      "pour la fonction dactivation identity\n",
      "0.8998571428571429\n",
      "pour la fonction dactivation logistic\n",
      "0.11452380952380953\n",
      "pour la fonction dactivation tanh\n",
      "0.9363333333333334\n",
      "pour la fonction dactivation relu\n",
      "0.9673333333333334\n"
     ]
    }
   ],
   "source": [
    "l=[\"identity\",\"logistic\",\"tanh\",\"relu\"]\n",
    "x=[]\n",
    "for i in range(1, 21):\n",
    "        x.append(50)\n",
    "        \n",
    "for k in range(1,5):\n",
    "    print(\"pour la fonction d'activation\", l[k-1])\n",
    "    clf = MLPClassifier(hidden_layer_sizes=(x),activation=(l[k-1]))\n",
    "    clf.fit(xtrain, ytrain)\n",
    "    ypredtest=clf.predict(xtest)\n",
    "    precision = precision_score(ytest,ypredtest,average='micro')\n",
    "    print(precision)"
   ]
  },
  {
   "cell_type": "code",
   "execution_count": 58,
   "metadata": {},
   "outputs": [
    {
     "name": "stdout",
     "output_type": "stream",
     "text": [
      "pour alpha = 0.0001\n",
      "0.9689523809523809\n",
      "erreur :  0.0310476190476191\n",
      "pour alpha = 0.001\n",
      "0.9697142857142858\n",
      "erreur :  0.03028571428571425\n",
      "pour alpha = 0.01\n",
      "0.971\n",
      "erreur :  0.029000000000000026\n",
      "pour alpha = 0.1\n",
      "0.9708095238095238\n",
      "erreur :  0.02919047619047621\n"
     ]
    }
   ],
   "source": [
    "list_prec=[]\n",
    "list_err=[]\n",
    "list_time=[]\n",
    "\n",
    "\n",
    "\n",
    "l=[0.0001,0.001,0.01,0.1]\n",
    "x=[]\n",
    "for i in range(1, 21):\n",
    "        x.append(50)\n",
    "        \n",
    "for k in range(1,5):\n",
    "    print(\"pour alpha =\", l[k-1])\n",
    "    clf = MLPClassifier(hidden_layer_sizes=(x),alpha=(l[k-1]))\n",
    "    clf.fit(xtrain, ytrain)\n",
    "    time1=time.time()\n",
    "    ypredtest=clf.predict(xtest)\n",
    "    time2=time.time()\n",
    "    precision = precision_score(ytest,ypredtest,average='micro')\n",
    "    print(\"precision :\", precision)\n",
    "    erreur = zero_one_loss(ytest,ypredtest)\n",
    "    print(\"erreur :\", erreur)\n",
    "    print(\"temps d'apprentisage\", (time2-time1))\n",
    "    list_prec.append(precision)\n",
    "    list_err.append(erreur)\n",
    "    list_time.append(time2-time1)"
   ]
  },
  {
   "cell_type": "code",
   "execution_count": 60,
   "metadata": {},
   "outputs": [],
   "source": [
    "import matplotlib.pyplot as plt"
   ]
  },
  {
   "cell_type": "code",
   "execution_count": 64,
   "metadata": {},
   "outputs": [
    {
     "data": {
      "image/png": "[encoded data removed]",
      "text/plain": [
       "<Figure size 432x288 with 1 Axes>"
      ]
     },
     "metadata": {
      "needs_background": "light"
     },
     "output_type": "display_data"
    }
   ],
   "source": [
    "plt.plot(l, list_prec, label=\"score\")\n",
    "plt.plot(l, list_err, label=\"erreur\")\n",
    "plt.plot(l, list_time, label=\"temps d'apprentissage\")\n",
    "plt.legend()\n",
    "plt.xlabel(\"alpha\")\n",
    "plt.ylabel(\"ordonnees\")\n",
    "plt.show()"
   ]
  },
  {
   "cell_type": "raw",
   "metadata": {},
   "source": [
    "Le modèle présentant les meilleurs résultats dans notres cas est l'algorithme Adam, avec la fonction d'activation relu, avec un alpha égal à 0.1. Le nombre de couche fixé à 20 et le nombre de neuronnes par couche est de 50."
   ]
  }
 ],
 "metadata": {
  "kernelspec": {
   "display_name": "Python 3",
   "language": "python",
   "name": "python3"
  },
  "language_info": {
   "codemirror_mode": {
    "name": "ipython",
    "version": 3
   },
   "file_extension": ".py",
   "mimetype": "text/x-python",
   "name": "python",
   "nbconvert_exporter": "python",
   "pygments_lexer": "ipython3",
   "version": "3.7.3"
  },
  "latex_envs": {
   "LaTeX_envs_menu_present": true,
   "autoclose": false,
   "autocomplete": true,
   "bibliofile": "biblio.bib",
   "cite_by": "apalike",
   "current_citInitial": 1,
   "eqLabelWithNumbers": true,
   "eqNumInitial": 1,
   "hotkeys": {
    "equation": "Ctrl-E",
    "itemize": "Ctrl-I"
   },
   "labels_anchors": false,
   "latex_user_defs": false,
   "report_style_numbering": false,
   "user_envs_cfg": false
  }
 },
 "nbformat": 4,
 "nbformat_minor": 2
}
